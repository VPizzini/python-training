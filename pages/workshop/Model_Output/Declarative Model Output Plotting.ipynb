{
 "cells": [
  {
   "cell_type": "markdown",
   "metadata": {},
   "source": [
    "<a name=\"top\"></a>\n",
    "<div style=\"width:1000 px\">\n",
    "\n",
    "<div style=\"float:right; width:98 px; height:98px;\">\n",
    "<img src=\"https://raw.githubusercontent.com/Unidata/MetPy/master/src/metpy/plots/_static/unidata_150x150.png\" alt=\"Unidata Logo\" style=\"height: 98px;\">\n",
    "</div>\n",
    "\n",
    "<h1>Downloading Model Output Plotting</h1>\n",
    "<h3>Unidata Python Workshop</h3>\n",
    "\n",
    "<div style=\"clear:both\"></div>\n",
    "</div>\n",
    "\n",
    "<hr style=\"height:2px;\">\n",
    "\n",
    "<div style=\"float:right; width:250 px\"><img src=\"https://unidata.github.io/siphon/latest/_static/siphon_150x150.png\" alt=\"TDS\" style=\"height: 200px;\"></div>\n",
    "\n",
    "### Questions\n",
    "1. What is the netCDF Subset Service (NCSS)?\n",
    "1. How can I use Siphon to make an NCSS request?\n",
    "1. How do I plot gridded fields using CartoPy?\n",
    "\n",
    "### Objectives\n",
    "1. <a href=\"#ncss\">Use siphon to make a request using NCSS</a>\n",
    "1. <a href=\"#xarray\">Creating an XArray Data Array</a>\n",
    "1. <a href=\"#plotting\">Make a Map</a>\n",
    "1. <a href=\"#pointrequest\">Requesting for a single point</a>"
   ]
  },
  {
   "cell_type": "markdown",
   "metadata": {},
   "source": [
    "<a name=\"ncss\"></a>\n",
    "## 1. What is NCSS?"
   ]
  },
  {
   "cell_type": "code",
   "execution_count": null,
   "metadata": {
    "pycharm": {
     "is_executing": false
    }
   },
   "outputs": [],
   "source": [
    "# Resolve the latest GFS dataset\n",
    "import metpy\n",
    "from siphon.catalog import TDSCatalog\n",
    "\n",
    "# Set up access via NCSS\n",
    "gfs_catalog = ('http://thredds.ucar.edu/thredds/catalog/grib/NCEP/GFS/'\n",
    "               'Global_0p5deg/catalog.xml?dataset=grib/NCEP/GFS/Global_0p5deg/Best')\n",
    "cat = TDSCatalog(gfs_catalog)\n",
    "ncss = cat.datasets[0].subset()"
   ]
  },
  {
   "cell_type": "markdown",
   "metadata": {},
   "source": [
    "We can see what variables are available from ncss as well:"
   ]
  },
  {
   "cell_type": "code",
   "execution_count": null,
   "metadata": {
    "pycharm": {
     "is_executing": false
    }
   },
   "outputs": [],
   "source": [
    "ncss.variables"
   ]
  },
  {
   "cell_type": "markdown",
   "metadata": {},
   "source": [
    "From here, we can build a query to ask for the data we want from the server."
   ]
  },
  {
   "cell_type": "code",
   "execution_count": null,
   "metadata": {
    "pycharm": {
     "is_executing": false
    }
   },
   "outputs": [],
   "source": [
    "from datetime import datetime, timedelta\n",
    "\n",
    "# Create a new NCSS query\n",
    "query = ncss.query()\n",
    "\n",
    "# Request data in netCDF format\n",
    "query.accept('netcdf')\n",
    "\n",
    "# Ask for our variable\n",
    "query.variables('Temperature_isobaric')\n",
    "\n",
    "# Ask for the 500 hPa surface\n",
    "query.vertical_level(50000)\n",
    "\n",
    "# Set the time range of data we want\n",
    "now = datetime.utcnow()\n",
    "query.time_range(now, now + timedelta(days=1))\n",
    "\n",
    "# Set the spatial limits\n",
    "query.lonlat_box(west=-110, east=-45, north=50, south=10)\n",
    "\n",
    "# get the data!\n",
    "data = ncss.get_data(query)"
   ]
  },
  {
   "cell_type": "code",
   "execution_count": null,
   "metadata": {
    "pycharm": {
     "is_executing": false
    }
   },
   "outputs": [],
   "source": [
    "data"
   ]
  },
  {
   "cell_type": "markdown",
   "metadata": {},
   "source": [
    "<a href=\"#top\">Top</a>\n",
    "<hr style=\"height:2px;\">"
   ]
  },
  {
   "cell_type": "markdown",
   "metadata": {},
   "source": [
    "<a name=\"xarray\"></a>\n",
    "## 2. Creating an XArray Data Array\n",
    "\n",
    "We know that the declarative plotting system works really well with XArray data arrays, so we need to get our NetCDF data into a data array. XArray makes this relatively easy with the NetCDF4DataStore backend."
   ]
  },
  {
   "cell_type": "code",
   "execution_count": null,
   "metadata": {
    "pycharm": {
     "is_executing": false
    }
   },
   "outputs": [],
   "source": [
    "from xarray.backends import NetCDF4DataStore\n",
    "import xarray as xr\n",
    "\n",
    "# We need the datastore so that we can open the existing netcdf dataset we downloaded\n",
    "ds = xr.open_dataset(NetCDF4DataStore(data))"
   ]
  },
  {
   "cell_type": "code",
   "execution_count": null,
   "metadata": {},
   "outputs": [],
   "source": [
    "ds"
   ]
  },
  {
   "cell_type": "markdown",
   "metadata": {},
   "source": [
    "We can explore the data with XArray, but for now we're most interested in which time steps are available so we can pick one to plot. Feel free to explore some of the other coordinates, data, and attributes of the data though!"
   ]
  },
  {
   "cell_type": "code",
   "execution_count": null,
   "metadata": {},
   "outputs": [],
   "source": [
    "ds.time"
   ]
  },
  {
   "cell_type": "markdown",
   "metadata": {},
   "source": [
    "We could do some rather ugly manipulation of numpy datetimes here, but instead we just say when we want the plot to be valid and MetPy will do it's best by plotting the nearest available time to our request!"
   ]
  },
  {
   "cell_type": "code",
   "execution_count": null,
   "metadata": {},
   "outputs": [],
   "source": [
    "# Create the desired plot time\n",
    "plot_time = now + timedelta(hours=12)"
   ]
  },
  {
   "cell_type": "markdown",
   "metadata": {},
   "source": [
    "<a href=\"#top\">Top</a>\n",
    "<hr style=\"height:2px;\">"
   ]
  },
  {
   "cell_type": "markdown",
   "metadata": {},
   "source": [
    "<a name=\"plotting\"></a>\n",
    "## Make a Map"
   ]
  },
  {
   "cell_type": "code",
   "execution_count": null,
   "metadata": {},
   "outputs": [],
   "source": [
    "from metpy.plots.declarative import *\n",
    "from metpy.units import units"
   ]
  },
  {
   "cell_type": "markdown",
   "metadata": {},
   "source": [
    "Let's start out by making a very basic plot of the grid - we just want to get an idea of what's here."
   ]
  },
  {
   "cell_type": "code",
   "execution_count": null,
   "metadata": {},
   "outputs": [],
   "source": [
    "# Make a basic image plot\n",
    "img = ImagePlot()\n",
    "img.data = ds\n",
    "img.field = 'Temperature_isobaric'\n",
    "img.level = 500 * units.hPa\n",
    "img.time = plot_time"
   ]
  },
  {
   "cell_type": "code",
   "execution_count": null,
   "metadata": {},
   "outputs": [],
   "source": [
    "# Create the map panel and add the plot to it\n",
    "panel = MapPanel()\n",
    "panel.plots = [img]"
   ]
  },
  {
   "cell_type": "code",
   "execution_count": null,
   "metadata": {},
   "outputs": [],
   "source": [
    "# Create a panel container and add the panel to it\n",
    "pc = PanelContainer()\n",
    "pc.panels = [panel]\n",
    "pc.show()"
   ]
  },
  {
   "cell_type": "markdown",
   "metadata": {},
   "source": [
    "Now that we have a basic example working, we can get a little fancier and start dressing up our plot. Remember building up is easier to troubleshoot than writing it all in one shot! We do have to recreate the `ImagePlot`, `MapPanel`, and `PanelContainer` each time though due to how things are working under the hood to make declarative plotting possible."
   ]
  },
  {
   "cell_type": "code",
   "execution_count": null,
   "metadata": {},
   "outputs": [],
   "source": [
    "# Make a basic image plot\n",
    "img = ImagePlot()\n",
    "img.data = ds\n",
    "img.field = 'Temperature_isobaric'\n",
    "img.level = 500 * units.hPa\n",
    "img.time = plot_time\n",
    "img.colormap = 'coolwarm'\n",
    "img.colorbar = 'horizontal'\n",
    "\n",
    "# Create the map panel and add the plot to it\n",
    "panel = MapPanel()\n",
    "panel.plots = [img]\n",
    "panel.layers = ['coastline', 'borders', 'states']\n",
    "\n",
    "# Create a panel container and add the panel to it\n",
    "pc = PanelContainer()\n",
    "pc.panels = [panel]\n",
    "pc.show()"
   ]
  },
  {
   "cell_type": "markdown",
   "metadata": {},
   "source": [
    "<div class=\"alert alert-success\">\n",
    "    <b>EXERCISE</b>:\n",
    "     <ul>\n",
    "        <li>Extend the plot above by plotting contours of 500 hPa geopotential heights onto the temperature image plot. (You'll need to get the data.)</li>\n",
    "        <li>Add a title to the plot with the correct time.</li>\n",
    "         <li>Increase the figure size for a better look.</li>\n",
    "    </ul>\n",
    "</div>"
   ]
  },
  {
   "cell_type": "code",
   "execution_count": null,
   "metadata": {},
   "outputs": [],
   "source": [
    "# Set up an NCSS query from thredds using siphon\n",
    "# YOUR CODE GOES HERE\n",
    "\n",
    "# Download data using NCSS and create Data Array\n",
    "# YOUR CODE GOES HERE\n",
    "\n",
    "# Get the first time step as a datetime\n",
    "# YOUR CODE GOES HERE\n",
    "\n",
    "# Make a temperature image plot\n",
    "# YOUR CODE GOES HERE\n",
    "\n",
    "# Make geopotential contour plot\n",
    "# YOUR CODE GOES HERE\n",
    "\n",
    "# Create a panel container and add the panel to it\n",
    "# YOUR CODE GOES HERE"
   ]
  },
  {
   "cell_type": "markdown",
   "metadata": {},
   "source": [
    "<div class=\"alert alert-info\">\n",
    "    <b>SOLUTION</b>\n",
    "</div>"
   ]
  },
  {
   "cell_type": "code",
   "execution_count": null,
   "metadata": {},
   "outputs": [],
   "source": [
    "# %load solutions/dec_contour_map.py"
   ]
  },
  {
   "cell_type": "markdown",
   "metadata": {},
   "source": [
    "We can even add wind barbs to the plot! We have to remove the level from our query though as winds are on a different coordinate that would be in hPa. That's okay though, when we plot we can select the correct level!"
   ]
  },
  {
   "cell_type": "code",
   "execution_count": null,
   "metadata": {},
   "outputs": [],
   "source": [
    "# Set up an NCSS query from thredds using siphon\n",
    "query = ncss.query()\n",
    "query.accept('netcdf4')\n",
    "query.variables('Temperature_isobaric', 'Geopotential_height_isobaric',\n",
    "                'u-component_of_wind_isobaric', 'v-component_of_wind_isobaric')\n",
    "now = datetime.utcnow()\n",
    "query.time_range(now, now + timedelta(days=1))\n",
    "query.lonlat_box(west=-110, east=-45, north=50, south=10)\n",
    "\n",
    "# Download data using NCSS and create Data Array\n",
    "data = ncss.get_data(query)\n",
    "ds = xr.open_dataset(NetCDF4DataStore(data))\n",
    "\n",
    "# Create the desired plot time\n",
    "plot_time = now + timedelta(hours=12)"
   ]
  },
  {
   "cell_type": "code",
   "execution_count": null,
   "metadata": {},
   "outputs": [],
   "source": [
    "# Make a temperature image plot\n",
    "tmp_img = ImagePlot()\n",
    "tmp_img.data = ds\n",
    "tmp_img.field = 'Temperature_isobaric'\n",
    "tmp_img.level = 500 * units.hPa\n",
    "tmp_img.time = plot_time\n",
    "tmp_img.colormap = 'coolwarm'\n",
    "tmp_img.colorbar = 'horizontal'\n",
    "\n",
    "# Make geopotential contour plot\n",
    "geopot_cnt = ContourPlot()\n",
    "geopot_cnt.data = ds\n",
    "geopot_cnt.field = 'Geopotential_height_isobaric'\n",
    "geopot_cnt.level = 500 * units.hPa\n",
    "geopot_cnt.time = plot_time\n",
    "\n",
    "# Add wind barbs\n",
    "barbs = BarbPlot()\n",
    "barbs.data = ds\n",
    "barbs.level = 500 * units.hPa\n",
    "barbs.time = plot_time\n",
    "barbs.field = ('u-component_of_wind_isobaric', 'v-component_of_wind_isobaric')\n",
    "\n",
    "# Create the map panel and add the plot to it\n",
    "panel = MapPanel()\n",
    "panel.plots = [tmp_img, geopot_cnt, barbs]\n",
    "panel.layers = ['coastline', 'borders', 'states']\n",
    "panel.title = plot_time.strftime('%Y-%m-%d at %H:%MZ')\n",
    "\n",
    "# Create a panel container and add the panel to it\n",
    "pc = PanelContainer()\n",
    "pc.panels = [panel]\n",
    "pc.size = (10, 8)\n",
    "pc.show()"
   ]
  },
  {
   "cell_type": "markdown",
   "metadata": {},
   "source": [
    "There! We've got our plot and are ready to publish right? Wrong! There are obviously too many wind barbs there. We need to skip some (naive downsample)."
   ]
  },
  {
   "cell_type": "code",
   "execution_count": null,
   "metadata": {},
   "outputs": [],
   "source": [
    "# Make a temperature image plot\n",
    "tmp_img = ImagePlot()\n",
    "tmp_img.data = ds\n",
    "tmp_img.field = 'Temperature_isobaric'\n",
    "tmp_img.level = 500 * units.hPa\n",
    "tmp_img.time = plot_time\n",
    "tmp_img.colormap = 'coolwarm'\n",
    "tmp_img.colorbar = 'horizontal'\n",
    "\n",
    "# Make geopotential contour plot\n",
    "geopot_cnt = ContourPlot()\n",
    "geopot_cnt.data = ds\n",
    "geopot_cnt.field = 'Geopotential_height_isobaric'\n",
    "geopot_cnt.level = 500 * units.hPa\n",
    "geopot_cnt.time = plot_time\n",
    "\n",
    "# Add wind barbs\n",
    "barbs = BarbPlot()\n",
    "barbs.data = ds\n",
    "barbs.level = 500 * units.hPa\n",
    "barbs.time = plot_time\n",
    "barbs.field = ('u-component_of_wind_isobaric', 'v-component_of_wind_isobaric')\n",
    "barbs.skip = (5, 5)\n",
    "\n",
    "# Create the map panel and add the plot to it\n",
    "panel = MapPanel()\n",
    "panel.plots = [tmp_img, geopot_cnt, barbs]\n",
    "panel.layers = ['coastline', 'borders', 'states']\n",
    "panel.title = plot_time.strftime('%Y-%m-%d at %H:%MZ')\n",
    "\n",
    "# Create a panel container and add the panel to it\n",
    "pc = PanelContainer()\n",
    "pc.panels = [panel]\n",
    "pc.size = (10, 8)\n",
    "pc.show()\n"
   ]
  },
  {
   "cell_type": "markdown",
   "metadata": {},
   "source": [
    "<div class=\"alert alert-success\">\n",
    "    <b>EXERCISE</b>:\n",
    "     <ul>\n",
    "        <li>Set the area of the MapPanel to match our request area.</li>\n",
    "    </ul>\n",
    "</div>"
   ]
  },
  {
   "cell_type": "code",
   "execution_count": null,
   "metadata": {},
   "outputs": [],
   "source": [
    "# COPY THE MAP FROM ABOVE AND MODIFY IT HERE"
   ]
  },
  {
   "cell_type": "markdown",
   "metadata": {},
   "source": [
    "<div class=\"alert alert-info\">\n",
    "    <b>SOLUTION</b>\n",
    "</div>"
   ]
  },
  {
   "cell_type": "code",
   "execution_count": null,
   "metadata": {},
   "outputs": [],
   "source": [
    "# %load solutions/dec_map_area.py"
   ]
  },
  {
   "cell_type": "markdown",
   "metadata": {},
   "source": [
    "<div class=\"alert alert-success\">\n",
    "    <b>EXERCISE</b>:\n",
    "     <ul>\n",
    "        <li>Create a new request/plot for different data from the model and create a new plot from scratch. Try to not copy/paste, but create from scratch or by typing copy at a minimum to help get your code muscles trained.</li>\n",
    "    </ul>\n",
    "</div>"
   ]
  },
  {
   "cell_type": "code",
   "execution_count": null,
   "metadata": {},
   "outputs": [],
   "source": [
    "# CREATE A DATA REQUEST"
   ]
  },
  {
   "cell_type": "code",
   "execution_count": null,
   "metadata": {},
   "outputs": [],
   "source": [
    "# CREATE A MAP"
   ]
  },
  {
   "cell_type": "markdown",
   "metadata": {},
   "source": [
    "<div class=\"alert alert-info\">\n",
    "    <b>SOLUTION</b>\n",
    "</div>"
   ]
  },
  {
   "cell_type": "code",
   "execution_count": null,
   "metadata": {},
   "outputs": [],
   "source": [
    "# %load solutions/dec_any_map.py"
   ]
  },
  {
   "cell_type": "markdown",
   "metadata": {},
   "source": [
    "<a href=\"#top\">Top</a>\n",
    "<hr style=\"height:2px;\">"
   ]
  }
 ],
 "metadata": {
  "gist_id": "310b790a3a2cfdc8d06e",
  "kernelspec": {
   "display_name": "Python 3 (ipykernel)",
   "language": "python",
   "name": "python3"
  },
  "language_info": {
   "codemirror_mode": {
    "name": "ipython",
    "version": 3
   },
   "file_extension": ".py",
   "mimetype": "text/x-python",
   "name": "python",
   "nbconvert_exporter": "python",
   "pygments_lexer": "ipython3",
   "version": "3.8.12"
  },
  "pycharm": {
   "stem_cell": {
    "cell_type": "raw",
    "metadata": {
     "collapsed": false
    },
    "source": []
   }
  }
 },
 "nbformat": 4,
 "nbformat_minor": 4
}
